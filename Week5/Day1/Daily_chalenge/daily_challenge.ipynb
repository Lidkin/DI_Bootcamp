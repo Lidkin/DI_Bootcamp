{
 "cells": [
  {
   "cell_type": "code",
   "execution_count": 1,
   "metadata": {},
   "outputs": [],
   "source": [
    "import numpy as np"
   ]
  },
  {
   "cell_type": "markdown",
   "metadata": {},
   "source": [
    "## 1"
   ]
  },
  {
   "cell_type": "code",
   "execution_count": 2,
   "metadata": {},
   "outputs": [
    {
     "data": {
      "text/plain": [
       "array([[52, 76,  9, 59,  3],\n",
       "       [67, 71, 27, 22, 94],\n",
       "       [88, 30, 40, 33, 22],\n",
       "       [51, 27, 72, 72, 34],\n",
       "       [98, 55, 11, 84, 81]])"
      ]
     },
     "execution_count": 2,
     "metadata": {},
     "output_type": "execute_result"
    }
   ],
   "source": [
    "data_int = np.array(np.random.randint(1, 100, size=25)).reshape(5,5)\n",
    "data_int"
   ]
  },
  {
   "cell_type": "markdown",
   "metadata": {},
   "source": [
    "## 2"
   ]
  },
  {
   "cell_type": "code",
   "execution_count": 3,
   "metadata": {},
   "outputs": [
    {
     "data": {
      "text/plain": [
       "array([[0.52, 0.77, 0.06, 0.59, 0.  ],\n",
       "       [0.67, 0.72, 0.25, 0.2 , 0.96],\n",
       "       [0.89, 0.28, 0.39, 0.32, 0.2 ],\n",
       "       [0.51, 0.25, 0.73, 0.73, 0.33],\n",
       "       [1.  , 0.55, 0.08, 0.85, 0.82]])"
      ]
     },
     "execution_count": 3,
     "metadata": {},
     "output_type": "execute_result"
    }
   ],
   "source": [
    "min_val = np.min(data_int)\n",
    "max_val = np.max(data_int)\n",
    "\n",
    "data_norm = (data_int - min_val) / (max_val - min_val)\n",
    "data_norm = np.round(data_norm, decimals=2)\n",
    "data_norm"
   ]
  },
  {
   "cell_type": "markdown",
   "metadata": {},
   "source": [
    "## 3"
   ]
  },
  {
   "cell_type": "code",
   "execution_count": 4,
   "metadata": {},
   "outputs": [
    {
     "data": {
      "text/plain": [
       "array([[ 0.03595667,  0.89891682, -1.51018026,  0.28765338, -1.7259203 ],\n",
       "       [ 0.57530677,  0.71913346, -0.86296015, -1.04274351,  1.54613693],\n",
       "       [ 1.33039689, -0.75509013, -0.3955234 , -0.64722011, -1.04274351],\n",
       "       [ 0.        , -0.86296015,  0.75509013,  0.75509013, -0.61126344],\n",
       "       [ 1.68996362,  0.14382669, -1.43826691,  1.1865702 ,  1.07870018]])"
      ]
     },
     "execution_count": 4,
     "metadata": {},
     "output_type": "execute_result"
    }
   ],
   "source": [
    "mean_val = np.round(np.mean(data_int))\n",
    "std_dev = np.std(data_int)\n",
    "\n",
    "z_score_vector = (data_int - mean_val) / std_dev\n",
    "z_score_vector"
   ]
  },
  {
   "cell_type": "markdown",
   "metadata": {},
   "source": [
    "## 4"
   ]
  },
  {
   "cell_type": "code",
   "execution_count": 5,
   "metadata": {},
   "outputs": [
    {
     "data": {
      "text/plain": [
       "array([52, 76,  9, 59,  3, 67, 71, 27, 22, 94, 88, 30, 40, 33, 22, 51, 27,\n",
       "       72, 72, 34, 98, 55, 11, 84, 81])"
      ]
     },
     "execution_count": 5,
     "metadata": {},
     "output_type": "execute_result"
    }
   ],
   "source": [
    "split_vector = np.ravel(data_int)\n",
    "split_vector"
   ]
  },
  {
   "cell_type": "markdown",
   "metadata": {},
   "source": [
    "## 5"
   ]
  },
  {
   "cell_type": "code",
   "execution_count": 6,
   "metadata": {},
   "outputs": [
    {
     "data": {
      "text/plain": [
       "105"
      ]
     },
     "execution_count": 6,
     "metadata": {},
     "output_type": "execute_result"
    }
   ],
   "source": [
    "vect1 = np.array(np.random.randint(1,10, size=5))\n",
    "vect2 = np.array(np.random.randint(1,10, size=5))\n",
    "dot_product = np.dot(vect1, vect2)\n",
    "dot_product"
   ]
  },
  {
   "cell_type": "markdown",
   "metadata": {},
   "source": [
    "## 6"
   ]
  },
  {
   "cell_type": "code",
   "execution_count": 8,
   "metadata": {},
   "outputs": [
    {
     "data": {
      "text/plain": [
       "array([[1196, 5396,   45],\n",
       "       [2278, 2201, 1944],\n",
       "       [8272, 1200,  400]])"
      ]
     },
     "execution_count": 8,
     "metadata": {},
     "output_type": "execute_result"
    }
   ],
   "source": [
    "data2 = np.array(np.random.randint(1, 100, size=9)).reshape(3,3)\n",
    "data1 = data_int[0:3, 0:3]\n",
    "\n",
    "multiplication_matrix = data1*data2\n",
    "multiplication_matrix"
   ]
  },
  {
   "cell_type": "code",
   "execution_count": 9,
   "metadata": {},
   "outputs": [
    {
     "data": {
      "text/plain": [
       "array([[4626, 6408, 5822],\n",
       "       [6493, 8038, 5717],\n",
       "       [6804, 8778, 3000]])"
      ]
     },
     "execution_count": 9,
     "metadata": {},
     "output_type": "execute_result"
    }
   ],
   "source": [
    "np.dot(data1, data2)"
   ]
  },
  {
   "cell_type": "markdown",
   "metadata": {},
   "source": [
    "## 7"
   ]
  },
  {
   "cell_type": "code",
   "execution_count": 10,
   "metadata": {},
   "outputs": [
    {
     "data": {
      "text/plain": [
       "array([[2., 0., 0.],\n",
       "       [0., 2., 0.],\n",
       "       [0., 0., 2.]])"
      ]
     },
     "execution_count": 10,
     "metadata": {},
     "output_type": "execute_result"
    }
   ],
   "source": [
    "indentify_matrix = np.identity(3)\n",
    "martix = indentify_matrix*2\n",
    "matrix = np.linalg.inv(martix)\n",
    "martix"
   ]
  },
  {
   "cell_type": "markdown",
   "metadata": {},
   "source": [
    "## 8"
   ]
  },
  {
   "cell_type": "code",
   "execution_count": 11,
   "metadata": {},
   "outputs": [
    {
     "data": {
      "text/plain": [
       "EigResult(eigenvalues=array([152.31794212 +0.j        ,   5.34102894+16.19889923j,\n",
       "         5.34102894-16.19889923j]), eigenvectors=array([[ 0.52502631+0.j        ,  0.36673112-0.23597214j,\n",
       "         0.36673112+0.23597214j],\n",
       "       [ 0.62455297+0.j        , -0.07196255+0.2230376j ,\n",
       "        -0.07196255-0.2230376j ],\n",
       "       [ 0.57817035+0.j        , -0.86885042+0.j        ,\n",
       "        -0.86885042-0.j        ]]))"
      ]
     },
     "execution_count": 11,
     "metadata": {},
     "output_type": "execute_result"
    }
   ],
   "source": [
    "np.linalg.eig(data1)"
   ]
  },
  {
   "cell_type": "markdown",
   "metadata": {},
   "source": [
    "## 9"
   ]
  },
  {
   "cell_type": "code",
   "execution_count": 15,
   "metadata": {},
   "outputs": [
    {
     "data": {
      "text/plain": [
       "array([15, 14,  4, 11, 23])"
      ]
     },
     "execution_count": 15,
     "metadata": {},
     "output_type": "execute_result"
    }
   ],
   "source": [
    "random_idx = np.random.choice(data_int.size, 5)\n",
    "random_idx"
   ]
  },
  {
   "cell_type": "code",
   "execution_count": 16,
   "metadata": {},
   "outputs": [
    {
     "data": {
      "text/plain": [
       "array([[52., 76.,  9., 59., nan],\n",
       "       [67., 71., 27., 22., 94.],\n",
       "       [88., nan, 40., 33., nan],\n",
       "       [nan, 27., 72., 72., 34.],\n",
       "       [98., 55., 11., nan, 81.]], dtype=float16)"
      ]
     },
     "execution_count": 16,
     "metadata": {},
     "output_type": "execute_result"
    }
   ],
   "source": [
    "data_float = data_int.astype('float16')\n",
    "data_float = data_float.reshape(25, )\n",
    "data_float = data_float.ravel()\n",
    "\n",
    "data_float[random_idx] = np.nan\n",
    "data_float = data_float.reshape(5, 5)\n",
    "data_float"
   ]
  },
  {
   "cell_type": "code",
   "execution_count": 17,
   "metadata": {},
   "outputs": [
    {
     "data": {
      "text/plain": [
       "array([[False, False, False, False,  True],\n",
       "       [False, False, False, False, False],\n",
       "       [False,  True, False, False,  True],\n",
       "       [ True, False, False, False, False],\n",
       "       [False, False, False,  True, False]])"
      ]
     },
     "execution_count": 17,
     "metadata": {},
     "output_type": "execute_result"
    }
   ],
   "source": [
    "np.isnan( data_float)"
   ]
  },
  {
   "cell_type": "code",
   "execution_count": 18,
   "metadata": {},
   "outputs": [
    {
     "data": {
      "text/plain": [
       "array([[0, 4],\n",
       "       [2, 1],\n",
       "       [2, 4],\n",
       "       [3, 0],\n",
       "       [4, 3]], dtype=int64)"
      ]
     },
     "execution_count": 18,
     "metadata": {},
     "output_type": "execute_result"
    }
   ],
   "source": [
    "np.argwhere(np.isnan(data_float))"
   ]
  },
  {
   "cell_type": "markdown",
   "metadata": {},
   "source": [
    "## 10"
   ]
  },
  {
   "cell_type": "code",
   "execution_count": 20,
   "metadata": {},
   "outputs": [
    {
     "data": {
      "text/plain": [
       "54.4"
      ]
     },
     "execution_count": 20,
     "metadata": {},
     "output_type": "execute_result"
    }
   ],
   "source": [
    "matrix_mean = np.nanmean(data_float)\n",
    "matrix_mean"
   ]
  },
  {
   "cell_type": "code",
   "execution_count": 21,
   "metadata": {},
   "outputs": [
    {
     "data": {
      "text/plain": [
       "array([[52. , 76. ,  9. , 59. , 54.4],\n",
       "       [67. , 71. , 27. , 22. , 94. ],\n",
       "       [88. , 54.4, 40. , 33. , 54.4],\n",
       "       [54.4, 27. , 72. , 72. , 34. ],\n",
       "       [98. , 55. , 11. , 54.4, 81. ]], dtype=float16)"
      ]
     },
     "execution_count": 21,
     "metadata": {},
     "output_type": "execute_result"
    }
   ],
   "source": [
    "nan_idx = np.isnan(data_float)\n",
    "\n",
    "data_float[nan_idx] = matrix_mean\n",
    "data_float"
   ]
  },
  {
   "cell_type": "code",
   "execution_count": null,
   "metadata": {},
   "outputs": [],
   "source": []
  }
 ],
 "metadata": {
  "kernelspec": {
   "display_name": "Python 3 (ipykernel)",
   "language": "python",
   "name": "python3"
  },
  "language_info": {
   "codemirror_mode": {
    "name": "ipython",
    "version": 3
   },
   "file_extension": ".py",
   "mimetype": "text/x-python",
   "name": "python",
   "nbconvert_exporter": "python",
   "pygments_lexer": "ipython3",
   "version": "3.11.0"
  }
 },
 "nbformat": 4,
 "nbformat_minor": 4
}
